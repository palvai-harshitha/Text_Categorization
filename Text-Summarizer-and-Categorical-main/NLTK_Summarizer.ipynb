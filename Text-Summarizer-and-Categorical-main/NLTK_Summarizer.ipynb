{
 "cells": [
  {
   "cell_type": "markdown",
   "metadata": {
    "id": "9RTfc-aiQlg4"
   },
   "source": [
    "# Step [1]: Prepare libraries and data\n",
    "### [1.1] Include important libraries"
   ]
  },
  {
   "cell_type": "code",
   "execution_count": 9,
   "metadata": {
    "id": "VQcijL5SQlg7"
   },
   "outputs": [],
   "source": [
    "import nltk\n",
    "import re\n",
    "import heapq  \n",
    "import pickle\n",
    "import pandas as pd\n",
    "import numpy as np\n",
    "from string import punctuation\n",
    "from nltk.corpus import stopwords\n",
    "punctuation = punctuation + '\\n'\n",
    "from nltk.stem.isri import ISRIStemmer\n",
    "from nltk.tokenize import word_tokenize, sent_tokenize\n",
    "from sklearn.preprocessing import LabelEncoder\n",
    "from sklearn.model_selection import train_test_split\n",
    "from sklearn.feature_extraction.text import TfidfVectorizer\n",
    "from sklearn.ensemble import RandomForestClassifier\n",
    "from sklearn.metrics import accuracy_score\n",
    "from sklearn.linear_model import LogisticRegression\n",
    "from sklearn.neighbors import KNeighborsClassifier\n",
    "from sklearn.tree import DecisionTreeClassifier\n",
    "from sklearn.naive_bayes import GaussianNB\n",
    "from sklearn.linear_model import RidgeClassifier"
   ]
  },
  {
   "cell_type": "markdown",
   "metadata": {
    "id": "AVtIGcckQlg-"
   },
   "source": [
    "### [1.2] Text categories:"
   ]
  },
  {
   "cell_type": "code",
   "execution_count": 10,
   "metadata": {
    "id": "ATqk_GyPQlg_"
   },
   "outputs": [],
   "source": [
    "categories = ['Economy & Business', 'Diverse News', 'Politic', 'Sport', 'Technology','Entertainment']"
   ]
  },
  {
   "cell_type": "markdown",
   "metadata": {
    "id": "Uz4oi2VnQlhA"
   },
   "source": [
    "### [1.3] Building the summerizer:"
   ]
  },
  {
   "cell_type": "code",
   "execution_count": 11,
   "metadata": {
    "id": "jNuYP7RuQlhB"
   },
   "outputs": [],
   "source": [
    "def nltk_summarizer(input_text, number_of_sentence):\n",
    "    stopWords = set(nltk.corpus.stopwords.words(\"arabic\") + nltk.corpus.stopwords.words(\"english\"))\n",
    "    word_frequencies = {}  \n",
    "    for word in nltk.word_tokenize(input_text):  \n",
    "        if word not in stopWords:\n",
    "            if word not in punctuation:\n",
    "                if word not in word_frequencies.keys():\n",
    "                    word_frequencies[word] = 1\n",
    "                else:\n",
    "                    word_frequencies[word] += 1\n",
    "\n",
    "    maximum_frequncy = max(word_frequencies.values())\n",
    "\n",
    "    for word in word_frequencies.keys():  \n",
    "        word_frequencies[word] = (word_frequencies[word]/maximum_frequncy)\n",
    "\n",
    "    sentence_list = nltk.sent_tokenize(input_text)\n",
    "    sentence_scores = {}  \n",
    "    for sent in sentence_list:  \n",
    "        for word in nltk.word_tokenize(sent.lower()):\n",
    "            if word in word_frequencies.keys():\n",
    "                if len(sent.split(' ')) < 30:\n",
    "                    if sent not in sentence_scores.keys():\n",
    "                        sentence_scores[sent] = word_frequencies[word]\n",
    "                    else:\n",
    "                        sentence_scores[sent] += word_frequencies[word]\n",
    "\n",
    "    summary_sentences = heapq.nlargest(number_of_sentence, sentence_scores, key=sentence_scores.get)\n",
    "\n",
    "    summary = ' '.join(summary_sentences)  \n",
    "    return summary"
   ]
  },
  {
   "cell_type": "markdown",
   "metadata": {
    "id": "8z_9EGeZQlhF"
   },
   "source": [
    "### [1.4] Reading dataset file:"
   ]
  },
  {
   "cell_type": "code",
   "execution_count": 12,
   "metadata": {
    "colab": {
     "base_uri": "https://localhost:8080/",
     "height": 105
    },
    "id": "u3VTkoozQlhG",
    "outputId": "fac3ffd8-c7ec-4e83-fa5f-b91cd0d9b109"
   },
   "outputs": [],
   "source": [
    "en_data = pd.read_csv('bbc_news_dataset.csv')\n",
    "en_data = en_data.replace(\"entertainment\", \"Entertainment\")\n",
    "en_data = en_data.replace(\"business\", \"economy & business\")\n",
    "en_data['Category_Encoded'] = en_data['Category'].factorize()[0]\n"
   ]
  },
  {
   "cell_type": "code",
   "execution_count": 13,
   "metadata": {
    "colab": {
     "base_uri": "https://localhost:8080/",
     "height": 359
    },
    "id": "cWMFFtMLs0Q_",
    "outputId": "e22af96d-ce4b-4595-f3c0-75b0b35c8f2a"
   },
   "outputs": [
    {
     "data": {
      "text/html": [
       "<div>\n",
       "<style scoped>\n",
       "    .dataframe tbody tr th:only-of-type {\n",
       "        vertical-align: middle;\n",
       "    }\n",
       "\n",
       "    .dataframe tbody tr th {\n",
       "        vertical-align: top;\n",
       "    }\n",
       "\n",
       "    .dataframe thead th {\n",
       "        text-align: right;\n",
       "    }\n",
       "</style>\n",
       "<table border=\"1\" class=\"dataframe\">\n",
       "  <thead>\n",
       "    <tr style=\"text-align: right;\">\n",
       "      <th></th>\n",
       "      <th>ArticleId</th>\n",
       "      <th>Text</th>\n",
       "      <th>Category</th>\n",
       "      <th>Category_Encoded</th>\n",
       "    </tr>\n",
       "  </thead>\n",
       "  <tbody>\n",
       "    <tr>\n",
       "      <th>1046</th>\n",
       "      <td>517</td>\n",
       "      <td>labour mp praises tory campaign the conservati...</td>\n",
       "      <td>politics</td>\n",
       "      <td>2</td>\n",
       "    </tr>\n",
       "    <tr>\n",
       "      <th>136</th>\n",
       "      <td>749</td>\n",
       "      <td>tv debate urged for party chiefs broadcasters ...</td>\n",
       "      <td>politics</td>\n",
       "      <td>2</td>\n",
       "    </tr>\n",
       "    <tr>\n",
       "      <th>1064</th>\n",
       "      <td>2075</td>\n",
       "      <td>apple sues  tiger  file sharers apple has take...</td>\n",
       "      <td>tech</td>\n",
       "      <td>1</td>\n",
       "    </tr>\n",
       "    <tr>\n",
       "      <th>1162</th>\n",
       "      <td>1913</td>\n",
       "      <td>elvis fans hold birthday bash elvis fans aroun...</td>\n",
       "      <td>Entertainment</td>\n",
       "      <td>4</td>\n",
       "    </tr>\n",
       "    <tr>\n",
       "      <th>896</th>\n",
       "      <td>978</td>\n",
       "      <td>jones happy with henson heroics wales fly-half...</td>\n",
       "      <td>sport</td>\n",
       "      <td>3</td>\n",
       "    </tr>\n",
       "    <tr>\n",
       "      <th>834</th>\n",
       "      <td>327</td>\n",
       "      <td>consumers drive french economy france s econom...</td>\n",
       "      <td>economy &amp; business</td>\n",
       "      <td>0</td>\n",
       "    </tr>\n",
       "    <tr>\n",
       "      <th>1228</th>\n",
       "      <td>649</td>\n",
       "      <td>robots march to us cinema summit animated movi...</td>\n",
       "      <td>Entertainment</td>\n",
       "      <td>4</td>\n",
       "    </tr>\n",
       "    <tr>\n",
       "      <th>1067</th>\n",
       "      <td>1337</td>\n",
       "      <td>west end to honour finest shows the west end i...</td>\n",
       "      <td>Entertainment</td>\n",
       "      <td>4</td>\n",
       "    </tr>\n",
       "    <tr>\n",
       "      <th>822</th>\n",
       "      <td>426</td>\n",
       "      <td>england coach faces rap after row england coac...</td>\n",
       "      <td>sport</td>\n",
       "      <td>3</td>\n",
       "    </tr>\n",
       "    <tr>\n",
       "      <th>158</th>\n",
       "      <td>844</td>\n",
       "      <td>france starts digital terrestrial france has b...</td>\n",
       "      <td>tech</td>\n",
       "      <td>1</td>\n",
       "    </tr>\n",
       "  </tbody>\n",
       "</table>\n",
       "</div>"
      ],
      "text/plain": [
       "      ArticleId                                               Text  \\\n",
       "1046        517  labour mp praises tory campaign the conservati...   \n",
       "136         749  tv debate urged for party chiefs broadcasters ...   \n",
       "1064       2075  apple sues  tiger  file sharers apple has take...   \n",
       "1162       1913  elvis fans hold birthday bash elvis fans aroun...   \n",
       "896         978  jones happy with henson heroics wales fly-half...   \n",
       "834         327  consumers drive french economy france s econom...   \n",
       "1228        649  robots march to us cinema summit animated movi...   \n",
       "1067       1337  west end to honour finest shows the west end i...   \n",
       "822         426  england coach faces rap after row england coac...   \n",
       "158         844  france starts digital terrestrial france has b...   \n",
       "\n",
       "                Category  Category_Encoded  \n",
       "1046            politics                 2  \n",
       "136             politics                 2  \n",
       "1064                tech                 1  \n",
       "1162       Entertainment                 4  \n",
       "896                sport                 3  \n",
       "834   economy & business                 0  \n",
       "1228       Entertainment                 4  \n",
       "1067       Entertainment                 4  \n",
       "822                sport                 3  \n",
       "158                 tech                 1  "
      ]
     },
     "execution_count": 13,
     "metadata": {},
     "output_type": "execute_result"
    }
   ],
   "source": [
    "en_data.rename(columns = {'Category Encoded':'Category_Encoded'}, inplace = True)\n",
    "en_data.columns\n",
    "en_data.sample(10)"
   ]
  },
  {
   "cell_type": "code",
   "execution_count": 14,
   "metadata": {
    "colab": {
     "base_uri": "https://localhost:8080/",
     "height": 389
    },
    "id": "rJeIkVsaQlhI",
    "outputId": "595a127c-9b99-4dc4-aa4a-3ef2f0799c2a"
   },
   "outputs": [
    {
     "data": {
      "image/png": "[encoded data removed]",
      "text/plain": [
       "<Figure size 432x288 with 1 Axes>"
      ]
     },
     "metadata": {
      "needs_background": "light"
     },
     "output_type": "display_data"
    }
   ],
   "source": [
    "import matplotlib.pyplot as plt\n",
    "\n",
    "\n",
    "\n",
    "en_data.groupby('Category').Category_Encoded.count().plot.bar(ylim=0)\n",
    "plt.xlabel(\"Categories\")\n",
    "plt.ylabel(\"In number\")\n",
    "plt.title(\"Graph for training data\")\n",
    "plt.show()"
   ]
  },
  {
   "cell_type": "markdown",
   "metadata": {
    "id": "HX1_KwRNQlhJ"
   },
   "source": [
    "# Step [2]: Data sterilization\n",
    "### [2.1] Delete links:\n",
    "This will remove all links from the text and it's include the following:\n",
    "- Matches http protocols like [**http:// or https://**].\n",
    "- Match optional whitespaces after http protocols.\n",
    "- Optionally matches including the [**www.**] or not.\n",
    "- Optionally matches whitespaces in the links.\n",
    "- Matches 0 or more of one or more word characters followed by a period.\n",
    "- Matches 0 or more of one or more words (or a dash or a space) followed by [**\\\\**].\n",
    "- Any remaining path at the end of the url followed by an optional ending.\n",
    "- Matches ending query params (even with white spaces, etc)."
   ]
  },
  {
   "cell_type": "code",
   "execution_count": 15,
   "metadata": {
    "id": "b5v-Gbj_QlhJ"
   },
   "outputs": [],
   "source": [
    "def delete_links(input_text):\n",
    "    pettern  = r'''(?i)\\b((?:https?://|www\\d{0,3}[.]|[a-z0-9.\\-]+[.][a-z]{2,4}/)(?:[^\\s()<>]+|\\(([^\\s()<>]+|(\\([^\\s()<>]+\\)))*\\))+(?:\\(([^\\s()<>]+|(\\([^\\s()<>]+\\)))*\\)|[^\\s`!()\\[\\]{};:'\".,<>?«»“”‘’]))'''\n",
    "    out_text = re.sub(pettern, ' ', input_text)\n",
    "    return out_text"
   ]
  },
  {
   "cell_type": "markdown",
   "metadata": {
    "id": "gNmQJQO_QlhK"
   },
   "source": [
    "### [2.2] Fixing word lengthening:\n",
    "Word lengthening occurs when characters are wrongly repeated. English words have a max of two repeated characters like the words [**wood, school**]. Additional characters need to ripped off, otherwise we might add misleading information."
   ]
  },
  {
   "cell_type": "code",
   "execution_count": 16,
   "metadata": {
    "id": "_5A-xmA4QlhM"
   },
   "outputs": [],
   "source": [
    "def delete_repeated_characters(input_text):\n",
    "    pattern  = r'(.)\\1{2,}'\n",
    "    out_text = re.sub(pattern, r\"\\1\\1\", input_text)\n",
    "    return out_text"
   ]
  },
  {
   "cell_type": "code",
   "execution_count": 17,
   "metadata": {
    "id": "2mxvzL-wQlhN"
   },
   "outputs": [],
   "source": [
    "def replace_letters(input_text):\n",
    "    replace = {\"أ\": \"ا\",\"ة\": \"ه\",\"إ\": \"ا\",\"آ\": \"ا\",\"\": \"\"}\n",
    "    replace = dict((re.escape(k), v) for k, v in replace.items()) \n",
    "    pattern = re.compile(\"|\".join(replace.keys()))\n",
    "    out_text = pattern.sub(lambda m: replace[re.escape(m.group(0))], input_text)\n",
    "    return out_text"
   ]
  },
  {
   "cell_type": "markdown",
   "metadata": {
    "id": "xPkcGTp1QlhO"
   },
   "source": [
    "### [2.3] Delete bad symbols:\n",
    "This method removes unwanted characters from the text, such as question marks, commas, star, plus ...etc."
   ]
  },
  {
   "cell_type": "code",
   "execution_count": 18,
   "metadata": {
    "id": "nGPpcODPQlhP"
   },
   "outputs": [],
   "source": [
    "def clean_text(input_text):\n",
    "    replace = r'[/(){}\\[\\]|@âÂ,;\\?\\'\\\"\\*…؟–’،!&\\+-:؛-]'\n",
    "    out_text = re.sub(replace, \" \", input_text)\n",
    "    words = nltk.word_tokenize(out_text)\n",
    "    words = [word for word in words if word.isalpha()]\n",
    "    out_text = ' '.join(words)\n",
    "    return out_text"
   ]
  },
  {
   "cell_type": "code",
   "execution_count": 19,
   "metadata": {
    "id": "Ye_wb9wQQlhQ"
   },
   "outputs": [],
   "source": [
    "def remove_vowelization(input_text):\n",
    "    vowelization = re.compile(\"\"\" ّ|َ|ً|ُ|ٌ|ِ|ٍ|ْ|ـ\"\"\", re.VERBOSE)\n",
    "    out_text = re.sub(vowelization, '', input_text)\n",
    "    return out_text"
   ]
  },
  {
   "cell_type": "markdown",
   "metadata": {
    "id": "GmP2IWsTQlhR"
   },
   "source": [
    "### [2.4] Delete stopwords:\n",
    "Like prepositions and hyphens words. for example [**and, in, or ...etc**]."
   ]
  },
  {
   "cell_type": "code",
   "execution_count": 20,
   "metadata": {
    "id": "9lgklEWHQlhS"
   },
   "outputs": [],
   "source": [
    "def delete_stopwords(input_text):\n",
    "    stop_words = set(nltk.corpus.stopwords.words(\"arabic\") + nltk.corpus.stopwords.words(\"english\"))\n",
    "    tokenizer = nltk.tokenize.WhitespaceTokenizer()\n",
    "    tokens = tokenizer.tokenize(input_text)\n",
    "    wnl = nltk.WordNetLemmatizer()\n",
    "    lemmatizedTokens =[wnl.lemmatize(t) for t in tokens]\n",
    "    out_text = [w for w in lemmatizedTokens if not w in stop_words]\n",
    "    out_text = ' '.join(out_text)\n",
    "    return out_text"
   ]
  },
  {
   "cell_type": "code",
   "execution_count": 21,
   "metadata": {
    "id": "h1HKG_w-QlhS"
   },
   "outputs": [],
   "source": [
    "def stem_text(input_text):\n",
    "    st = ISRIStemmer()\n",
    "    tokenizer = nltk.tokenize.WhitespaceTokenizer()\n",
    "    tokens = tokenizer.tokenize(input_text)\n",
    "    out_text = [st.stem(w) for w in tokens]\n",
    "    out_text = ' '.join(out_text)\n",
    "    return out_text"
   ]
  },
  {
   "cell_type": "markdown",
   "metadata": {
    "id": "fG9EjqBRQlhT"
   },
   "source": [
    "### [2.5] Text prepare:\n",
    "- Applay all previus functions to sterilize the input text.\n",
    "- Convert letters to lowercase to make all words in the text in the same letters sensitivity."
   ]
  },
  {
   "cell_type": "code",
   "execution_count": 22,
   "metadata": {
    "id": "dsmElMcrQlhT"
   },
   "outputs": [],
   "source": [
    "def text_prepare(input_text, ar_text):\n",
    "    out_text = delete_links(input_text)\n",
    "    out_text = delete_repeated_characters(out_text)\n",
    "    out_text = clean_text(out_text)\n",
    "    out_text = delete_stopwords(out_text)\n",
    "    if ar_text:\n",
    "        out_text = replace_letters(out_text)\n",
    "        out_text = remove_vowelization(out_text)\n",
    "        out_text = stem_text(out_text)\n",
    "    else:\n",
    "        out_text = out_text.lower()\n",
    "    return out_text"
   ]
  },
  {
   "cell_type": "code",
   "execution_count": 23,
   "metadata": {
    "colab": {
     "base_uri": "https://localhost:8080/"
    },
    "id": "bcau06yjTCgM",
    "outputId": "857f00b3-360a-430d-8434-501257f24f82"
   },
   "outputs": [
    {
     "name": "stderr",
     "output_type": "stream",
     "text": [
      "[nltk_data] Downloading collection 'all'\n",
      "[nltk_data]    | \n",
      "[nltk_data]    | Downloading package abc to\n",
      "[nltk_data]    |     C:\\Users\\Sravya\\AppData\\Roaming\\nltk_data...\n",
      "[nltk_data]    |   Package abc is already up-to-date!\n",
      "[nltk_data]    | Downloading package alpino to\n",
      "[nltk_data]    |     C:\\Users\\Sravya\\AppData\\Roaming\\nltk_data...\n",
      "[nltk_data]    |   Package alpino is already up-to-date!\n",
      "[nltk_data]    | Downloading package averaged_perceptron_tagger to\n",
      "[nltk_data]    |     C:\\Users\\Sravya\\AppData\\Roaming\\nltk_data...\n",
      "[nltk_data]    |   Package averaged_perceptron_tagger is already up-\n",
      "[nltk_data]    |       to-date!\n",
      "[nltk_data]    | Downloading package averaged_perceptron_tagger_ru to\n",
      "[nltk_data]    |     C:\\Users\\Sravya\\AppData\\Roaming\\nltk_data...\n",
      "[nltk_data]    |   Package averaged_perceptron_tagger_ru is already\n",
      "[nltk_data]    |       up-to-date!\n",
      "[nltk_data]    | Downloading package basque_grammars to\n",
      "[nltk_data]    |     C:\\Users\\Sravya\\AppData\\Roaming\\nltk_data...\n",
      "[nltk_data]    |   Package basque_grammars is already up-to-date!\n",
      "[nltk_data]    | Downloading package biocreative_ppi to\n",
      "[nltk_data]    |     C:\\Users\\Sravya\\AppData\\Roaming\\nltk_data...\n",
      "[nltk_data]    |   Package biocreative_ppi is already up-to-date!\n",
      "[nltk_data]    | Downloading package bllip_wsj_no_aux to\n",
      "[nltk_data]    |     C:\\Users\\Sravya\\AppData\\Roaming\\nltk_data...\n",
      "[nltk_data]    |   Package bllip_wsj_no_aux is already up-to-date!\n",
      "[nltk_data]    | Downloading package book_grammars to\n",
      "[nltk_data]    |     C:\\Users\\Sravya\\AppData\\Roaming\\nltk_data...\n",
      "[nltk_data]    |   Package book_grammars is already up-to-date!\n",
      "[nltk_data]    | Downloading package brown to\n",
      "[nltk_data]    |     C:\\Users\\Sravya\\AppData\\Roaming\\nltk_data...\n",
      "[nltk_data]    |   Package brown is already up-to-date!\n",
      "[nltk_data]    | Downloading package brown_tei to\n",
      "[nltk_data]    |     C:\\Users\\Sravya\\AppData\\Roaming\\nltk_data...\n",
      "[nltk_data]    |   Package brown_tei is already up-to-date!\n",
      "[nltk_data]    | Downloading package cess_cat to\n",
      "[nltk_data]    |     C:\\Users\\Sravya\\AppData\\Roaming\\nltk_data...\n",
      "[nltk_data]    |   Package cess_cat is already up-to-date!\n",
      "[nltk_data]    | Downloading package cess_esp to\n",
      "[nltk_data]    |     C:\\Users\\Sravya\\AppData\\Roaming\\nltk_data...\n",
      "[nltk_data]    |   Package cess_esp is already up-to-date!\n",
      "[nltk_data]    | Downloading package chat80 to\n",
      "[nltk_data]    |     C:\\Users\\Sravya\\AppData\\Roaming\\nltk_data...\n",
      "[nltk_data]    |   Package chat80 is already up-to-date!\n",
      "[nltk_data]    | Downloading package city_database to\n",
      "[nltk_data]    |     C:\\Users\\Sravya\\AppData\\Roaming\\nltk_data...\n",
      "[nltk_data]    |   Package city_database is already up-to-date!\n",
      "[nltk_data]    | Downloading package cmudict to\n",
      "[nltk_data]    |     C:\\Users\\Sravya\\AppData\\Roaming\\nltk_data...\n",
      "[nltk_data]    |   Package cmudict is already up-to-date!\n",
      "[nltk_data]    | Downloading package comparative_sentences to\n",
      "[nltk_data]    |     C:\\Users\\Sravya\\AppData\\Roaming\\nltk_data...\n",
      "[nltk_data]    |   Package comparative_sentences is already up-to-\n",
      "[nltk_data]    |       date!\n",
      "[nltk_data]    | Downloading package comtrans to\n",
      "[nltk_data]    |     C:\\Users\\Sravya\\AppData\\Roaming\\nltk_data...\n",
      "[nltk_data]    |   Package comtrans is already up-to-date!\n",
      "[nltk_data]    | Downloading package conll2000 to\n",
      "[nltk_data]    |     C:\\Users\\Sravya\\AppData\\Roaming\\nltk_data...\n",
      "[nltk_data]    |   Package conll2000 is already up-to-date!\n",
      "[nltk_data]    | Downloading package conll2002 to\n",
      "[nltk_data]    |     C:\\Users\\Sravya\\AppData\\Roaming\\nltk_data...\n",
      "[nltk_data]    |   Package conll2002 is already up-to-date!\n",
      "[nltk_data]    | Downloading package conll2007 to\n",
      "[nltk_data]    |     C:\\Users\\Sravya\\AppData\\Roaming\\nltk_data...\n",
      "[nltk_data]    |   Package conll2007 is already up-to-date!\n",
      "[nltk_data]    | Downloading package crubadan to\n",
      "[nltk_data]    |     C:\\Users\\Sravya\\AppData\\Roaming\\nltk_data...\n",
      "[nltk_data]    |   Package crubadan is already up-to-date!\n",
      "[nltk_data]    | Downloading package dependency_treebank to\n",
      "[nltk_data]    |     C:\\Users\\Sravya\\AppData\\Roaming\\nltk_data...\n",
      "[nltk_data]    |   Package dependency_treebank is already up-to-date!\n",
      "[nltk_data]    | Downloading package dolch to\n",
      "[nltk_data]    |     C:\\Users\\Sravya\\AppData\\Roaming\\nltk_data...\n",
      "[nltk_data]    |   Package dolch is already up-to-date!\n",
      "[nltk_data]    | Downloading package europarl_raw to\n",
      "[nltk_data]    |     C:\\Users\\Sravya\\AppData\\Roaming\\nltk_data...\n",
      "[nltk_data]    |   Package europarl_raw is already up-to-date!\n",
      "[nltk_data]    | Downloading package extended_omw to\n",
      "[nltk_data]    |     C:\\Users\\Sravya\\AppData\\Roaming\\nltk_data...\n",
      "[nltk_data]    |   Package extended_omw is already up-to-date!\n",
      "[nltk_data]    | Downloading package floresta to\n",
      "[nltk_data]    |     C:\\Users\\Sravya\\AppData\\Roaming\\nltk_data...\n",
      "[nltk_data]    |   Package floresta is already up-to-date!\n",
      "[nltk_data]    | Downloading package framenet_v15 to\n",
      "[nltk_data]    |     C:\\Users\\Sravya\\AppData\\Roaming\\nltk_data...\n",
      "[nltk_data]    |   Package framenet_v15 is already up-to-date!\n",
      "[nltk_data]    | Downloading package framenet_v17 to\n",
      "[nltk_data]    |     C:\\Users\\Sravya\\AppData\\Roaming\\nltk_data...\n",
      "[nltk_data]    |   Package framenet_v17 is already up-to-date!\n",
      "[nltk_data]    | Downloading package gazetteers to\n",
      "[nltk_data]    |     C:\\Users\\Sravya\\AppData\\Roaming\\nltk_data...\n",
      "[nltk_data]    |   Package gazetteers is already up-to-date!\n",
      "[nltk_data]    | Downloading package genesis to\n",
      "[nltk_data]    |     C:\\Users\\Sravya\\AppData\\Roaming\\nltk_data...\n",
      "[nltk_data]    |   Package genesis is already up-to-date!\n",
      "[nltk_data]    | Downloading package gutenberg to\n",
      "[nltk_data]    |     C:\\Users\\Sravya\\AppData\\Roaming\\nltk_data...\n",
      "[nltk_data]    |   Package gutenberg is already up-to-date!\n",
      "[nltk_data]    | Downloading package ieer to\n",
      "[nltk_data]    |     C:\\Users\\Sravya\\AppData\\Roaming\\nltk_data...\n",
      "[nltk_data]    |   Package ieer is already up-to-date!\n",
      "[nltk_data]    | Downloading package inaugural to\n",
      "[nltk_data]    |     C:\\Users\\Sravya\\AppData\\Roaming\\nltk_data...\n",
      "[nltk_data]    |   Package inaugural is already up-to-date!\n",
      "[nltk_data]    | Downloading package indian to\n",
      "[nltk_data]    |     C:\\Users\\Sravya\\AppData\\Roaming\\nltk_data...\n",
      "[nltk_data]    |   Package indian is already up-to-date!\n",
      "[nltk_data]    | Downloading package jeita to\n",
      "[nltk_data]    |     C:\\Users\\Sravya\\AppData\\Roaming\\nltk_data...\n",
      "[nltk_data]    |   Package jeita is already up-to-date!\n",
      "[nltk_data]    | Downloading package kimmo to\n",
      "[nltk_data]    |     C:\\Users\\Sravya\\AppData\\Roaming\\nltk_data...\n",
      "[nltk_data]    |   Package kimmo is already up-to-date!\n",
      "[nltk_data]    | Downloading package knbc to\n",
      "[nltk_data]    |     C:\\Users\\Sravya\\AppData\\Roaming\\nltk_data...\n",
      "[nltk_data]    |   Package knbc is already up-to-date!\n",
      "[nltk_data]    | Downloading package large_grammars to\n",
      "[nltk_data]    |     C:\\Users\\Sravya\\AppData\\Roaming\\nltk_data...\n",
      "[nltk_data]    |   Package large_grammars is already up-to-date!\n",
      "[nltk_data]    | Downloading package lin_thesaurus to\n",
      "[nltk_data]    |     C:\\Users\\Sravya\\AppData\\Roaming\\nltk_data...\n",
      "[nltk_data]    |   Package lin_thesaurus is already up-to-date!\n",
      "[nltk_data]    | Downloading package mac_morpho to\n",
      "[nltk_data]    |     C:\\Users\\Sravya\\AppData\\Roaming\\nltk_data...\n",
      "[nltk_data]    |   Package mac_morpho is already up-to-date!\n",
      "[nltk_data]    | Downloading package machado to\n",
      "[nltk_data]    |     C:\\Users\\Sravya\\AppData\\Roaming\\nltk_data...\n",
      "[nltk_data]    |   Package machado is already up-to-date!\n",
      "[nltk_data]    | Downloading package masc_tagged to\n",
      "[nltk_data]    |     C:\\Users\\Sravya\\AppData\\Roaming\\nltk_data...\n",
      "[nltk_data]    |   Package masc_tagged is already up-to-date!\n",
      "[nltk_data]    | Downloading package maxent_ne_chunker to\n",
      "[nltk_data]    |     C:\\Users\\Sravya\\AppData\\Roaming\\nltk_data...\n",
      "[nltk_data]    |   Package maxent_ne_chunker is already up-to-date!\n",
      "[nltk_data]    | Downloading package maxent_treebank_pos_tagger to\n",
      "[nltk_data]    |     C:\\Users\\Sravya\\AppData\\Roaming\\nltk_data...\n",
      "[nltk_data]    |   Package maxent_treebank_pos_tagger is already up-\n",
      "[nltk_data]    |       to-date!\n",
      "[nltk_data]    | Downloading package moses_sample to\n",
      "[nltk_data]    |     C:\\Users\\Sravya\\AppData\\Roaming\\nltk_data...\n",
      "[nltk_data]    |   Package moses_sample is already up-to-date!\n",
      "[nltk_data]    | Downloading package movie_reviews to\n",
      "[nltk_data]    |     C:\\Users\\Sravya\\AppData\\Roaming\\nltk_data...\n"
     ]
    },
    {
     "name": "stderr",
     "output_type": "stream",
     "text": [
      "[nltk_data]    |   Package movie_reviews is already up-to-date!\n",
      "[nltk_data]    | Downloading package mte_teip5 to\n",
      "[nltk_data]    |     C:\\Users\\Sravya\\AppData\\Roaming\\nltk_data...\n",
      "[nltk_data]    |   Package mte_teip5 is already up-to-date!\n",
      "[nltk_data]    | Downloading package mwa_ppdb to\n",
      "[nltk_data]    |     C:\\Users\\Sravya\\AppData\\Roaming\\nltk_data...\n",
      "[nltk_data]    |   Package mwa_ppdb is already up-to-date!\n",
      "[nltk_data]    | Downloading package names to\n",
      "[nltk_data]    |     C:\\Users\\Sravya\\AppData\\Roaming\\nltk_data...\n",
      "[nltk_data]    |   Package names is already up-to-date!\n",
      "[nltk_data]    | Downloading package nombank.1.0 to\n",
      "[nltk_data]    |     C:\\Users\\Sravya\\AppData\\Roaming\\nltk_data...\n",
      "[nltk_data]    |   Package nombank.1.0 is already up-to-date!\n",
      "[nltk_data]    | Downloading package nonbreaking_prefixes to\n",
      "[nltk_data]    |     C:\\Users\\Sravya\\AppData\\Roaming\\nltk_data...\n",
      "[nltk_data]    |   Package nonbreaking_prefixes is already up-to-date!\n",
      "[nltk_data]    | Downloading package nps_chat to\n",
      "[nltk_data]    |     C:\\Users\\Sravya\\AppData\\Roaming\\nltk_data...\n",
      "[nltk_data]    |   Package nps_chat is already up-to-date!\n",
      "[nltk_data]    | Downloading package omw to\n",
      "[nltk_data]    |     C:\\Users\\Sravya\\AppData\\Roaming\\nltk_data...\n",
      "[nltk_data]    |   Package omw is already up-to-date!\n",
      "[nltk_data]    | Downloading package omw-1.4 to\n",
      "[nltk_data]    |     C:\\Users\\Sravya\\AppData\\Roaming\\nltk_data...\n",
      "[nltk_data]    |   Package omw-1.4 is already up-to-date!\n",
      "[nltk_data]    | Downloading package opinion_lexicon to\n",
      "[nltk_data]    |     C:\\Users\\Sravya\\AppData\\Roaming\\nltk_data...\n",
      "[nltk_data]    |   Package opinion_lexicon is already up-to-date!\n",
      "[nltk_data]    | Downloading package panlex_swadesh to\n",
      "[nltk_data]    |     C:\\Users\\Sravya\\AppData\\Roaming\\nltk_data...\n",
      "[nltk_data]    |   Package panlex_swadesh is already up-to-date!\n",
      "[nltk_data]    | Downloading package paradigms to\n",
      "[nltk_data]    |     C:\\Users\\Sravya\\AppData\\Roaming\\nltk_data...\n",
      "[nltk_data]    |   Package paradigms is already up-to-date!\n",
      "[nltk_data]    | Downloading package pe08 to\n",
      "[nltk_data]    |     C:\\Users\\Sravya\\AppData\\Roaming\\nltk_data...\n",
      "[nltk_data]    |   Package pe08 is already up-to-date!\n",
      "[nltk_data]    | Downloading package perluniprops to\n",
      "[nltk_data]    |     C:\\Users\\Sravya\\AppData\\Roaming\\nltk_data...\n",
      "[nltk_data]    |   Package perluniprops is already up-to-date!\n",
      "[nltk_data]    | Downloading package pil to\n",
      "[nltk_data]    |     C:\\Users\\Sravya\\AppData\\Roaming\\nltk_data...\n",
      "[nltk_data]    |   Package pil is already up-to-date!\n",
      "[nltk_data]    | Downloading package pl196x to\n",
      "[nltk_data]    |     C:\\Users\\Sravya\\AppData\\Roaming\\nltk_data...\n",
      "[nltk_data]    |   Package pl196x is already up-to-date!\n",
      "[nltk_data]    | Downloading package porter_test to\n",
      "[nltk_data]    |     C:\\Users\\Sravya\\AppData\\Roaming\\nltk_data...\n",
      "[nltk_data]    |   Package porter_test is already up-to-date!\n",
      "[nltk_data]    | Downloading package ppattach to\n",
      "[nltk_data]    |     C:\\Users\\Sravya\\AppData\\Roaming\\nltk_data...\n",
      "[nltk_data]    |   Package ppattach is already up-to-date!\n",
      "[nltk_data]    | Downloading package problem_reports to\n",
      "[nltk_data]    |     C:\\Users\\Sravya\\AppData\\Roaming\\nltk_data...\n",
      "[nltk_data]    |   Package problem_reports is already up-to-date!\n",
      "[nltk_data]    | Downloading package product_reviews_1 to\n",
      "[nltk_data]    |     C:\\Users\\Sravya\\AppData\\Roaming\\nltk_data...\n",
      "[nltk_data]    |   Package product_reviews_1 is already up-to-date!\n",
      "[nltk_data]    | Downloading package product_reviews_2 to\n",
      "[nltk_data]    |     C:\\Users\\Sravya\\AppData\\Roaming\\nltk_data...\n",
      "[nltk_data]    |   Package product_reviews_2 is already up-to-date!\n",
      "[nltk_data]    | Downloading package propbank to\n",
      "[nltk_data]    |     C:\\Users\\Sravya\\AppData\\Roaming\\nltk_data...\n",
      "[nltk_data]    |   Package propbank is already up-to-date!\n",
      "[nltk_data]    | Downloading package pros_cons to\n",
      "[nltk_data]    |     C:\\Users\\Sravya\\AppData\\Roaming\\nltk_data...\n",
      "[nltk_data]    |   Package pros_cons is already up-to-date!\n",
      "[nltk_data]    | Downloading package ptb to\n",
      "[nltk_data]    |     C:\\Users\\Sravya\\AppData\\Roaming\\nltk_data...\n",
      "[nltk_data]    |   Package ptb is already up-to-date!\n",
      "[nltk_data]    | Downloading package punkt to\n",
      "[nltk_data]    |     C:\\Users\\Sravya\\AppData\\Roaming\\nltk_data...\n",
      "[nltk_data]    |   Package punkt is already up-to-date!\n",
      "[nltk_data]    | Downloading package qc to\n",
      "[nltk_data]    |     C:\\Users\\Sravya\\AppData\\Roaming\\nltk_data...\n",
      "[nltk_data]    |   Package qc is already up-to-date!\n",
      "[nltk_data]    | Downloading package reuters to\n",
      "[nltk_data]    |     C:\\Users\\Sravya\\AppData\\Roaming\\nltk_data...\n",
      "[nltk_data]    |   Package reuters is already up-to-date!\n",
      "[nltk_data]    | Downloading package rslp to\n",
      "[nltk_data]    |     C:\\Users\\Sravya\\AppData\\Roaming\\nltk_data...\n",
      "[nltk_data]    |   Package rslp is already up-to-date!\n",
      "[nltk_data]    | Downloading package rte to\n",
      "[nltk_data]    |     C:\\Users\\Sravya\\AppData\\Roaming\\nltk_data...\n",
      "[nltk_data]    |   Package rte is already up-to-date!\n",
      "[nltk_data]    | Downloading package sample_grammars to\n",
      "[nltk_data]    |     C:\\Users\\Sravya\\AppData\\Roaming\\nltk_data...\n",
      "[nltk_data]    |   Package sample_grammars is already up-to-date!\n",
      "[nltk_data]    | Downloading package semcor to\n",
      "[nltk_data]    |     C:\\Users\\Sravya\\AppData\\Roaming\\nltk_data...\n",
      "[nltk_data]    |   Package semcor is already up-to-date!\n",
      "[nltk_data]    | Downloading package senseval to\n",
      "[nltk_data]    |     C:\\Users\\Sravya\\AppData\\Roaming\\nltk_data...\n",
      "[nltk_data]    |   Package senseval is already up-to-date!\n",
      "[nltk_data]    | Downloading package sentence_polarity to\n",
      "[nltk_data]    |     C:\\Users\\Sravya\\AppData\\Roaming\\nltk_data...\n",
      "[nltk_data]    |   Package sentence_polarity is already up-to-date!\n",
      "[nltk_data]    | Downloading package sentiwordnet to\n",
      "[nltk_data]    |     C:\\Users\\Sravya\\AppData\\Roaming\\nltk_data...\n",
      "[nltk_data]    |   Package sentiwordnet is already up-to-date!\n",
      "[nltk_data]    | Downloading package shakespeare to\n",
      "[nltk_data]    |     C:\\Users\\Sravya\\AppData\\Roaming\\nltk_data...\n",
      "[nltk_data]    |   Package shakespeare is already up-to-date!\n",
      "[nltk_data]    | Downloading package sinica_treebank to\n",
      "[nltk_data]    |     C:\\Users\\Sravya\\AppData\\Roaming\\nltk_data...\n",
      "[nltk_data]    |   Package sinica_treebank is already up-to-date!\n",
      "[nltk_data]    | Downloading package smultron to\n",
      "[nltk_data]    |     C:\\Users\\Sravya\\AppData\\Roaming\\nltk_data...\n",
      "[nltk_data]    |   Package smultron is already up-to-date!\n",
      "[nltk_data]    | Downloading package snowball_data to\n",
      "[nltk_data]    |     C:\\Users\\Sravya\\AppData\\Roaming\\nltk_data...\n",
      "[nltk_data]    |   Package snowball_data is already up-to-date!\n",
      "[nltk_data]    | Downloading package spanish_grammars to\n",
      "[nltk_data]    |     C:\\Users\\Sravya\\AppData\\Roaming\\nltk_data...\n",
      "[nltk_data]    |   Package spanish_grammars is already up-to-date!\n",
      "[nltk_data]    | Downloading package state_union to\n",
      "[nltk_data]    |     C:\\Users\\Sravya\\AppData\\Roaming\\nltk_data...\n",
      "[nltk_data]    |   Package state_union is already up-to-date!\n",
      "[nltk_data]    | Downloading package stopwords to\n",
      "[nltk_data]    |     C:\\Users\\Sravya\\AppData\\Roaming\\nltk_data...\n",
      "[nltk_data]    |   Package stopwords is already up-to-date!\n",
      "[nltk_data]    | Downloading package subjectivity to\n",
      "[nltk_data]    |     C:\\Users\\Sravya\\AppData\\Roaming\\nltk_data...\n",
      "[nltk_data]    |   Package subjectivity is already up-to-date!\n",
      "[nltk_data]    | Downloading package swadesh to\n",
      "[nltk_data]    |     C:\\Users\\Sravya\\AppData\\Roaming\\nltk_data...\n",
      "[nltk_data]    |   Package swadesh is already up-to-date!\n",
      "[nltk_data]    | Downloading package switchboard to\n",
      "[nltk_data]    |     C:\\Users\\Sravya\\AppData\\Roaming\\nltk_data...\n",
      "[nltk_data]    |   Package switchboard is already up-to-date!\n",
      "[nltk_data]    | Downloading package tagsets to\n",
      "[nltk_data]    |     C:\\Users\\Sravya\\AppData\\Roaming\\nltk_data...\n",
      "[nltk_data]    |   Package tagsets is already up-to-date!\n",
      "[nltk_data]    | Downloading package timit to\n",
      "[nltk_data]    |     C:\\Users\\Sravya\\AppData\\Roaming\\nltk_data...\n",
      "[nltk_data]    |   Package timit is already up-to-date!\n",
      "[nltk_data]    | Downloading package toolbox to\n",
      "[nltk_data]    |     C:\\Users\\Sravya\\AppData\\Roaming\\nltk_data...\n",
      "[nltk_data]    |   Package toolbox is already up-to-date!\n",
      "[nltk_data]    | Downloading package treebank to\n",
      "[nltk_data]    |     C:\\Users\\Sravya\\AppData\\Roaming\\nltk_data...\n",
      "[nltk_data]    |   Package treebank is already up-to-date!\n",
      "[nltk_data]    | Downloading package twitter_samples to\n",
      "[nltk_data]    |     C:\\Users\\Sravya\\AppData\\Roaming\\nltk_data...\n"
     ]
    },
    {
     "name": "stderr",
     "output_type": "stream",
     "text": [
      "[nltk_data]    |   Package twitter_samples is already up-to-date!\n",
      "[nltk_data]    | Downloading package udhr to\n",
      "[nltk_data]    |     C:\\Users\\Sravya\\AppData\\Roaming\\nltk_data...\n",
      "[nltk_data]    |   Package udhr is already up-to-date!\n",
      "[nltk_data]    | Downloading package udhr2 to\n",
      "[nltk_data]    |     C:\\Users\\Sravya\\AppData\\Roaming\\nltk_data...\n",
      "[nltk_data]    |   Package udhr2 is already up-to-date!\n",
      "[nltk_data]    | Downloading package unicode_samples to\n",
      "[nltk_data]    |     C:\\Users\\Sravya\\AppData\\Roaming\\nltk_data...\n",
      "[nltk_data]    |   Package unicode_samples is already up-to-date!\n",
      "[nltk_data]    | Downloading package universal_tagset to\n",
      "[nltk_data]    |     C:\\Users\\Sravya\\AppData\\Roaming\\nltk_data...\n",
      "[nltk_data]    |   Package universal_tagset is already up-to-date!\n",
      "[nltk_data]    | Downloading package universal_treebanks_v20 to\n",
      "[nltk_data]    |     C:\\Users\\Sravya\\AppData\\Roaming\\nltk_data...\n",
      "[nltk_data]    |   Package universal_treebanks_v20 is already up-to-\n",
      "[nltk_data]    |       date!\n",
      "[nltk_data]    | Downloading package vader_lexicon to\n",
      "[nltk_data]    |     C:\\Users\\Sravya\\AppData\\Roaming\\nltk_data...\n",
      "[nltk_data]    |   Package vader_lexicon is already up-to-date!\n",
      "[nltk_data]    | Downloading package verbnet to\n",
      "[nltk_data]    |     C:\\Users\\Sravya\\AppData\\Roaming\\nltk_data...\n",
      "[nltk_data]    |   Package verbnet is already up-to-date!\n",
      "[nltk_data]    | Downloading package verbnet3 to\n",
      "[nltk_data]    |     C:\\Users\\Sravya\\AppData\\Roaming\\nltk_data...\n",
      "[nltk_data]    |   Package verbnet3 is already up-to-date!\n",
      "[nltk_data]    | Downloading package webtext to\n",
      "[nltk_data]    |     C:\\Users\\Sravya\\AppData\\Roaming\\nltk_data...\n",
      "[nltk_data]    |   Package webtext is already up-to-date!\n",
      "[nltk_data]    | Downloading package wmt15_eval to\n",
      "[nltk_data]    |     C:\\Users\\Sravya\\AppData\\Roaming\\nltk_data...\n",
      "[nltk_data]    |   Package wmt15_eval is already up-to-date!\n",
      "[nltk_data]    | Downloading package word2vec_sample to\n",
      "[nltk_data]    |     C:\\Users\\Sravya\\AppData\\Roaming\\nltk_data...\n",
      "[nltk_data]    |   Package word2vec_sample is already up-to-date!\n",
      "[nltk_data]    | Downloading package wordnet to\n",
      "[nltk_data]    |     C:\\Users\\Sravya\\AppData\\Roaming\\nltk_data...\n",
      "[nltk_data]    |   Package wordnet is already up-to-date!\n",
      "[nltk_data]    | Downloading package wordnet2021 to\n",
      "[nltk_data]    |     C:\\Users\\Sravya\\AppData\\Roaming\\nltk_data...\n",
      "[nltk_data]    |   Package wordnet2021 is already up-to-date!\n",
      "[nltk_data]    | Downloading package wordnet31 to\n",
      "[nltk_data]    |     C:\\Users\\Sravya\\AppData\\Roaming\\nltk_data...\n",
      "[nltk_data]    |   Package wordnet31 is already up-to-date!\n",
      "[nltk_data]    | Downloading package wordnet_ic to\n",
      "[nltk_data]    |     C:\\Users\\Sravya\\AppData\\Roaming\\nltk_data...\n",
      "[nltk_data]    |   Package wordnet_ic is already up-to-date!\n",
      "[nltk_data]    | Downloading package words to\n",
      "[nltk_data]    |     C:\\Users\\Sravya\\AppData\\Roaming\\nltk_data...\n",
      "[nltk_data]    |   Package words is already up-to-date!\n",
      "[nltk_data]    | Downloading package ycoe to\n",
      "[nltk_data]    |     C:\\Users\\Sravya\\AppData\\Roaming\\nltk_data...\n",
      "[nltk_data]    |   Package ycoe is already up-to-date!\n",
      "[nltk_data]    | \n",
      "[nltk_data]  Done downloading collection all\n"
     ]
    },
    {
     "data": {
      "text/plain": [
       "True"
      ]
     },
     "execution_count": 23,
     "metadata": {},
     "output_type": "execute_result"
    }
   ],
   "source": [
    "import nltk\n",
    "\n",
    "nltk.download('all')\n"
   ]
  },
  {
   "cell_type": "code",
   "execution_count": 24,
   "metadata": {
    "colab": {
     "base_uri": "https://localhost:8080/",
     "height": 573
    },
    "id": "s_PvajuKQlhU",
    "outputId": "b83f890d-4878-44f6-83f2-f104ec5d076d"
   },
   "outputs": [
    {
     "data": {
      "text/html": [
       "<div>\n",
       "<style scoped>\n",
       "    .dataframe tbody tr th:only-of-type {\n",
       "        vertical-align: middle;\n",
       "    }\n",
       "\n",
       "    .dataframe tbody tr th {\n",
       "        vertical-align: top;\n",
       "    }\n",
       "\n",
       "    .dataframe thead th {\n",
       "        text-align: right;\n",
       "    }\n",
       "</style>\n",
       "<table border=\"1\" class=\"dataframe\">\n",
       "  <thead>\n",
       "    <tr style=\"text-align: right;\">\n",
       "      <th></th>\n",
       "      <th>ArticleId</th>\n",
       "      <th>Text</th>\n",
       "      <th>Category</th>\n",
       "      <th>Category_Encoded</th>\n",
       "      <th>Processed Text</th>\n",
       "    </tr>\n",
       "  </thead>\n",
       "  <tbody>\n",
       "    <tr>\n",
       "      <th>437</th>\n",
       "      <td>266</td>\n",
       "      <td>davenport hits out at wimbledon world number o...</td>\n",
       "      <td>sport</td>\n",
       "      <td>3</td>\n",
       "      <td>davenport hit wimbledon world number one linds...</td>\n",
       "    </tr>\n",
       "    <tr>\n",
       "      <th>570</th>\n",
       "      <td>437</td>\n",
       "      <td>slowdown hits us factory growth us industrial ...</td>\n",
       "      <td>economy &amp; business</td>\n",
       "      <td>0</td>\n",
       "      <td>slowdown hit u factory growth u industrial pro...</td>\n",
       "    </tr>\n",
       "    <tr>\n",
       "      <th>307</th>\n",
       "      <td>1121</td>\n",
       "      <td>blair congratulates bush on win tony blair has...</td>\n",
       "      <td>politics</td>\n",
       "      <td>2</td>\n",
       "      <td>blair congratulates bush win tony blair ha sai...</td>\n",
       "    </tr>\n",
       "    <tr>\n",
       "      <th>1278</th>\n",
       "      <td>1169</td>\n",
       "      <td>redknapp poised for saints southampton are set...</td>\n",
       "      <td>sport</td>\n",
       "      <td>3</td>\n",
       "      <td>redknapp poised saint southampton set unveil h...</td>\n",
       "    </tr>\n",
       "    <tr>\n",
       "      <th>387</th>\n",
       "      <td>26</td>\n",
       "      <td>moya fights back for indian title carlos moya ...</td>\n",
       "      <td>sport</td>\n",
       "      <td>3</td>\n",
       "      <td>moya fight back indian title carlos moya becam...</td>\n",
       "    </tr>\n",
       "    <tr>\n",
       "      <th>1477</th>\n",
       "      <td>883</td>\n",
       "      <td>web logs aid disaster recovery some of the mos...</td>\n",
       "      <td>tech</td>\n",
       "      <td>1</td>\n",
       "      <td>web log aid disaster recovery vivid descriptio...</td>\n",
       "    </tr>\n",
       "    <tr>\n",
       "      <th>1310</th>\n",
       "      <td>550</td>\n",
       "      <td>berlin celebrates european cinema organisers s...</td>\n",
       "      <td>Entertainment</td>\n",
       "      <td>4</td>\n",
       "      <td>berlin celebrates european cinema organiser sa...</td>\n",
       "    </tr>\n",
       "    <tr>\n",
       "      <th>250</th>\n",
       "      <td>1982</td>\n",
       "      <td>minister hits out at yukos sale russia s renat...</td>\n",
       "      <td>economy &amp; business</td>\n",
       "      <td>0</td>\n",
       "      <td>minister hit yukos sale russia renationalisati...</td>\n",
       "    </tr>\n",
       "    <tr>\n",
       "      <th>1235</th>\n",
       "      <td>863</td>\n",
       "      <td>leaders meet over turkish eu bid tony blair ha...</td>\n",
       "      <td>politics</td>\n",
       "      <td>2</td>\n",
       "      <td>leader meet turkish eu bid tony blair ha met i...</td>\n",
       "    </tr>\n",
       "    <tr>\n",
       "      <th>573</th>\n",
       "      <td>324</td>\n",
       "      <td>blunkett hints at election call ex-home secret...</td>\n",
       "      <td>politics</td>\n",
       "      <td>2</td>\n",
       "      <td>blunkett hint election call ex home secretary ...</td>\n",
       "    </tr>\n",
       "  </tbody>\n",
       "</table>\n",
       "</div>"
      ],
      "text/plain": [
       "      ArticleId                                               Text  \\\n",
       "437         266  davenport hits out at wimbledon world number o...   \n",
       "570         437  slowdown hits us factory growth us industrial ...   \n",
       "307        1121  blair congratulates bush on win tony blair has...   \n",
       "1278       1169  redknapp poised for saints southampton are set...   \n",
       "387          26  moya fights back for indian title carlos moya ...   \n",
       "1477        883  web logs aid disaster recovery some of the mos...   \n",
       "1310        550  berlin celebrates european cinema organisers s...   \n",
       "250        1982  minister hits out at yukos sale russia s renat...   \n",
       "1235        863  leaders meet over turkish eu bid tony blair ha...   \n",
       "573         324  blunkett hints at election call ex-home secret...   \n",
       "\n",
       "                Category  Category_Encoded  \\\n",
       "437                sport                 3   \n",
       "570   economy & business                 0   \n",
       "307             politics                 2   \n",
       "1278               sport                 3   \n",
       "387                sport                 3   \n",
       "1477                tech                 1   \n",
       "1310       Entertainment                 4   \n",
       "250   economy & business                 0   \n",
       "1235            politics                 2   \n",
       "573             politics                 2   \n",
       "\n",
       "                                         Processed Text  \n",
       "437   davenport hit wimbledon world number one linds...  \n",
       "570   slowdown hit u factory growth u industrial pro...  \n",
       "307   blair congratulates bush win tony blair ha sai...  \n",
       "1278  redknapp poised saint southampton set unveil h...  \n",
       "387   moya fight back indian title carlos moya becam...  \n",
       "1477  web log aid disaster recovery vivid descriptio...  \n",
       "1310  berlin celebrates european cinema organiser sa...  \n",
       "250   minister hit yukos sale russia renationalisati...  \n",
       "1235  leader meet turkish eu bid tony blair ha met i...  \n",
       "573   blunkett hint election call ex home secretary ...  "
      ]
     },
     "execution_count": 24,
     "metadata": {},
     "output_type": "execute_result"
    }
   ],
   "source": [
    "en_data['Processed Text'] = en_data['Text'].apply(text_prepare, args=(False,))\n",
    "\n",
    "en_data.sample(10)"
   ]
  },
  {
   "cell_type": "markdown",
   "metadata": {
    "id": "6k4Bie23QlhV"
   },
   "source": [
    "# Step [3]: Text Splitting and vectorizing\n",
    "### [3.1] Label encoding:"
   ]
  },
  {
   "cell_type": "code",
   "execution_count": 25,
   "metadata": {
    "colab": {
     "base_uri": "https://localhost:8080/",
     "height": 556
    },
    "id": "agpOsPUPQlhW",
    "outputId": "045e79a2-1bf7-4d9b-a413-3d833d9e3c9b"
   },
   "outputs": [
    {
     "data": {
      "text/html": [
       "<div>\n",
       "<style scoped>\n",
       "    .dataframe tbody tr th:only-of-type {\n",
       "        vertical-align: middle;\n",
       "    }\n",
       "\n",
       "    .dataframe tbody tr th {\n",
       "        vertical-align: top;\n",
       "    }\n",
       "\n",
       "    .dataframe thead th {\n",
       "        text-align: right;\n",
       "    }\n",
       "</style>\n",
       "<table border=\"1\" class=\"dataframe\">\n",
       "  <thead>\n",
       "    <tr style=\"text-align: right;\">\n",
       "      <th></th>\n",
       "      <th>ArticleId</th>\n",
       "      <th>Text</th>\n",
       "      <th>Category</th>\n",
       "      <th>Category_Encoded</th>\n",
       "      <th>Processed Text</th>\n",
       "    </tr>\n",
       "  </thead>\n",
       "  <tbody>\n",
       "    <tr>\n",
       "      <th>427</th>\n",
       "      <td>930</td>\n",
       "      <td>casual gaming to  take off  games aimed at  ca...</td>\n",
       "      <td>tech</td>\n",
       "      <td>4</td>\n",
       "      <td>casual gaming take game aimed casual player se...</td>\n",
       "    </tr>\n",
       "    <tr>\n",
       "      <th>920</th>\n",
       "      <td>1036</td>\n",
       "      <td>correction agency plans dropped plans to creat...</td>\n",
       "      <td>politics</td>\n",
       "      <td>2</td>\n",
       "      <td>correction agency plan dropped plan create sin...</td>\n",
       "    </tr>\n",
       "    <tr>\n",
       "      <th>175</th>\n",
       "      <td>490</td>\n",
       "      <td>cairn shares slump on oil setback shares in ca...</td>\n",
       "      <td>economy &amp; business</td>\n",
       "      <td>1</td>\n",
       "      <td>cairn share slump oil setback share cairn ener...</td>\n",
       "    </tr>\n",
       "    <tr>\n",
       "      <th>246</th>\n",
       "      <td>1446</td>\n",
       "      <td>kennedy criticises  unfair  taxes gordon brown...</td>\n",
       "      <td>politics</td>\n",
       "      <td>2</td>\n",
       "      <td>kennedy criticises unfair tax gordon brown ha ...</td>\n",
       "    </tr>\n",
       "    <tr>\n",
       "      <th>518</th>\n",
       "      <td>1607</td>\n",
       "      <td>edu describes tunnel fracas arsenal s edu has ...</td>\n",
       "      <td>sport</td>\n",
       "      <td>3</td>\n",
       "      <td>edu describes tunnel fracas arsenal edu ha lif...</td>\n",
       "    </tr>\n",
       "    <tr>\n",
       "      <th>486</th>\n",
       "      <td>2021</td>\n",
       "      <td>ad sales boost time warner profit quarterly pr...</td>\n",
       "      <td>economy &amp; business</td>\n",
       "      <td>1</td>\n",
       "      <td>ad sale boost time warner profit quarterly pro...</td>\n",
       "    </tr>\n",
       "    <tr>\n",
       "      <th>1004</th>\n",
       "      <td>2070</td>\n",
       "      <td>ferguson puts faith in youngsters manchester u...</td>\n",
       "      <td>sport</td>\n",
       "      <td>3</td>\n",
       "      <td>ferguson put faith youngster manchester united...</td>\n",
       "    </tr>\n",
       "    <tr>\n",
       "      <th>766</th>\n",
       "      <td>982</td>\n",
       "      <td>tutu s guantanamo release call archbishop desm...</td>\n",
       "      <td>politics</td>\n",
       "      <td>2</td>\n",
       "      <td>tutu guantanamo release call archbishop desmon...</td>\n",
       "    </tr>\n",
       "    <tr>\n",
       "      <th>1343</th>\n",
       "      <td>1734</td>\n",
       "      <td>borders 19-20 ulster ulster clung on for a mor...</td>\n",
       "      <td>sport</td>\n",
       "      <td>3</td>\n",
       "      <td>border ulster ulster clung morale boosting cel...</td>\n",
       "    </tr>\n",
       "    <tr>\n",
       "      <th>73</th>\n",
       "      <td>1971</td>\n",
       "      <td>balco case trial date pushed back the trial da...</td>\n",
       "      <td>sport</td>\n",
       "      <td>3</td>\n",
       "      <td>balco case trial date pushed back trial date b...</td>\n",
       "    </tr>\n",
       "  </tbody>\n",
       "</table>\n",
       "</div>"
      ],
      "text/plain": [
       "      ArticleId                                               Text  \\\n",
       "427         930  casual gaming to  take off  games aimed at  ca...   \n",
       "920        1036  correction agency plans dropped plans to creat...   \n",
       "175         490  cairn shares slump on oil setback shares in ca...   \n",
       "246        1446  kennedy criticises  unfair  taxes gordon brown...   \n",
       "518        1607  edu describes tunnel fracas arsenal s edu has ...   \n",
       "486        2021  ad sales boost time warner profit quarterly pr...   \n",
       "1004       2070  ferguson puts faith in youngsters manchester u...   \n",
       "766         982  tutu s guantanamo release call archbishop desm...   \n",
       "1343       1734  borders 19-20 ulster ulster clung on for a mor...   \n",
       "73         1971  balco case trial date pushed back the trial da...   \n",
       "\n",
       "                Category  Category_Encoded  \\\n",
       "427                 tech                 4   \n",
       "920             politics                 2   \n",
       "175   economy & business                 1   \n",
       "246             politics                 2   \n",
       "518                sport                 3   \n",
       "486   economy & business                 1   \n",
       "1004               sport                 3   \n",
       "766             politics                 2   \n",
       "1343               sport                 3   \n",
       "73                 sport                 3   \n",
       "\n",
       "                                         Processed Text  \n",
       "427   casual gaming take game aimed casual player se...  \n",
       "920   correction agency plan dropped plan create sin...  \n",
       "175   cairn share slump oil setback share cairn ener...  \n",
       "246   kennedy criticises unfair tax gordon brown ha ...  \n",
       "518   edu describes tunnel fracas arsenal edu ha lif...  \n",
       "486   ad sale boost time warner profit quarterly pro...  \n",
       "1004  ferguson put faith youngster manchester united...  \n",
       "766   tutu guantanamo release call archbishop desmon...  \n",
       "1343  border ulster ulster clung morale boosting cel...  \n",
       "73    balco case trial date pushed back trial date b...  "
      ]
     },
     "execution_count": 25,
     "metadata": {},
     "output_type": "execute_result"
    }
   ],
   "source": [
    "en_label_encoder = LabelEncoder()\n",
    "en_data['Category_Encoded'] = en_label_encoder.fit_transform(en_data['Category'])\n",
    "\n",
    "\n",
    "en_data.sample(10)"
   ]
  },
  {
   "cell_type": "markdown",
   "metadata": {
    "id": "axzlhGRAQlhY"
   },
   "source": [
    "### [3.2] Splitting the data to train and text:"
   ]
  },
  {
   "cell_type": "code",
   "execution_count": 26,
   "metadata": {
    "id": "C3_An8j9QlhZ"
   },
   "outputs": [],
   "source": [
    "en_X_train, en_X_test, en_y_train, en_y_test = train_test_split(en_data['Processed Text'], en_data['Category_Encoded'], test_size=0.2, random_state=0)\n"
   ]
  },
  {
   "cell_type": "code",
   "execution_count": 27,
   "metadata": {
    "colab": {
     "base_uri": "https://localhost:8080/"
    },
    "id": "W4iPahb1uESj",
    "outputId": "2803abdf-ff5d-4793-e776-9f366f3b38d7"
   },
   "outputs": [
    {
     "data": {
      "text/plain": [
       "9       fockers fuel festive film chart comedy meet fo...\n",
       "354     tory candidate quits remark conservative elect...\n",
       "1227    bath faced tindall ultimatum mike tindall agen...\n",
       "907     chancellor rally labour voter gordon brown ha ...\n",
       "575     young debut cut short ginepri fifteen year old...\n",
       "                              ...                        \n",
       "461     everton weir cool euro hope everton defender d...\n",
       "39      security scare spark browser fix microsoft wor...\n",
       "408     youssou n dour win music prize senegalese musi...\n",
       "1036    tautou star da vinci film french actress audre...\n",
       "713     straw praise kashmir move uk ha welcomed decis...\n",
       "Name: Processed Text, Length: 298, dtype: object"
      ]
     },
     "execution_count": 27,
     "metadata": {},
     "output_type": "execute_result"
    }
   ],
   "source": [
    "en_X_train.count(),en_X_test.count()\n",
    "en_X_test"
   ]
  },
  {
   "cell_type": "markdown",
   "metadata": {
    "id": "8VYYrOCJQlha"
   },
   "source": [
    "### [3.3] TF-IDF vectorizer:\n",
    "The second approach extends the bag-of-words framework by taking into account total frequencies of words in the corpora. It helps to penalize too frequent words and provide better features space. "
   ]
  },
  {
   "cell_type": "code",
   "execution_count": 28,
   "metadata": {
    "id": "wd_EYJoDQlha"
   },
   "outputs": [],
   "source": [
    "def tfidf_features(X_train, X_test, ngram_range):\n",
    "    tfidf_vectorizer = TfidfVectorizer(min_df=2, max_df=0.5, ngram_range=(1, ngram_range))\n",
    "    X_train = tfidf_vectorizer.fit_transform(X_train)\n",
    "    X_test = tfidf_vectorizer.transform(X_test)\n",
    "    return X_train, X_test"
   ]
  },
  {
   "cell_type": "code",
   "execution_count": 29,
   "metadata": {
    "id": "LMB_XRiDQlhb"
   },
   "outputs": [],
   "source": [
    "en_features_train, en_features_test = tfidf_features(en_X_train, en_X_test, 2)"
   ]
  },
  {
   "cell_type": "code",
   "execution_count": 30,
   "metadata": {
    "id": "cugjWILKuuRx"
   },
   "outputs": [],
   "source": [
    "from sklearn.metrics import classification_report, confusion_matrix, accuracy_score\n",
    "from sklearn.metrics import plot_confusion_matrix"
   ]
  },
  {
   "cell_type": "markdown",
   "metadata": {
    "id": "OU-04X39Qlhd"
   },
   "source": [
    "### [3.4] Fit model:\n",
    "This function used to generate a model based on it's name then train that model and calculate it's accuracy on test data."
   ]
  },
  {
   "cell_type": "code",
   "execution_count": 31,
   "metadata": {
    "id": "9OzbO30lQlhf"
   },
   "outputs": [],
   "source": [
    "def fit_model(model_name, ar_text=False):\n",
    "    \n",
    "    if model_name == 'random_forest_model':\n",
    "        model_name = RandomForestClassifier()\n",
    "    elif model_name == 'logistic_regression_model':\n",
    "        model_name = LogisticRegression()\n",
    "   \n",
    "    \n",
    "    model_name.fit(en_features_train.toarray(), en_y_train)\n",
    "    model_predictions = model_name.predict(en_features_test.toarray())\n",
    "    print(\"Accuracy on test: \", accuracy_score(en_y_test, model_predictions))\n",
    "    result = confusion_matrix(model_predictions, en_y_test)\n",
    "    print(\"Confusion Matrix\")\n",
    "    print(result)\n",
    "    result1 = classification_report(model_predictions, en_y_test)\n",
    "    print(\"Classification Report for \",model_name)\n",
    "    print(result1)\n",
    "    plt.plot(model_predictions,en_y_test)\n",
    "    plt.xlabel('model_predictions')\n",
    "    plt.ylabel('y_test')\n",
    "    plt.title('Graph between prediction and given data for Logistic Regression')\n",
    "    plt.grid(True)\n",
    "    plt.show()\n",
    "        \n",
    "    return model_name"
   ]
  },
  {
   "cell_type": "markdown",
   "metadata": {
    "id": "VOs6RCwKQlhg"
   },
   "source": [
    "### [3.5] Summerize and predict for input text:"
   ]
  },
  {
   "cell_type": "code",
   "execution_count": 32,
   "metadata": {
    "id": "1NyS8s9RQlhg"
   },
   "outputs": [],
   "source": [
    "def summerize_category(input_text, statements, model_name, ar_text=False):\n",
    "    summary_text = nltk_summarizer(input_text, statements)\n",
    "    print(\"-------------------------------------------------------------------------------------------------------------------------------\")\n",
    "    print(\"Text summary\")\n",
    "    print(\"-------------------------------------------------------------------------------------------------------------------------------\")\n",
    "    print(summary_text)\n",
    "    print(\"-------------------------------------------------------------------------------------------------------------------------------\")\n",
    "    input_text_arr = [text_prepare(input_text, ar_text)]\n",
    "    if ar_text:\n",
    "        features_train, features_test = tfidf_features(ar_X_train, input_text_arr, 2)\n",
    "    else:\n",
    "        features_train, features_test = tfidf_features(en_X_train, input_text_arr, 2)\n",
    "    text_predection = model_name.predict(features_test.toarray())\n",
    "    print(\"Text category:\", categories[text_predection[0]])\n",
    "    print(\"-------------------------------------------------------------------------------------------------------------------------------\")"
   ]
  },
  {
   "cell_type": "markdown",
   "metadata": {
    "id": "KbaRftvkQlhi"
   },
   "source": [
    "#### [3.3.2] Random forest classifier:"
   ]
  },
  {
   "cell_type": "code",
   "execution_count": 33,
   "metadata": {
    "colab": {
     "base_uri": "https://localhost:8080/",
     "height": 636
    },
    "id": "Ty4Us1jT175U",
    "outputId": "047c9893-6c14-45ac-f3ec-3819a84aab1a"
   },
   "outputs": [
    {
     "name": "stdout",
     "output_type": "stream",
     "text": [
      "Accuracy on test:  0.9563758389261745\n",
      "Confusion Matrix\n",
      "[[60  0  0  0  2]\n",
      " [ 1 63  1  0  1]\n",
      " [ 1  0 49  1  0]\n",
      " [ 1  0  3 64  1]\n",
      " [ 0  1  0  0 49]]\n",
      "Classification Report for  RandomForestClassifier()\n",
      "              precision    recall  f1-score   support\n",
      "\n",
      "           0       0.95      0.97      0.96        62\n",
      "           1       0.98      0.95      0.97        66\n",
      "           2       0.92      0.96      0.94        51\n",
      "           3       0.98      0.93      0.96        69\n",
      "           4       0.92      0.98      0.95        50\n",
      "\n",
      "    accuracy                           0.96       298\n",
      "   macro avg       0.95      0.96      0.96       298\n",
      "weighted avg       0.96      0.96      0.96       298\n",
      "\n"
     ]
    },
    {
     "data": {
      "image/png": "[encoded data removed]",
      "text/plain": [
       "<Figure size 432x288 with 1 Axes>"
      ]
     },
     "metadata": {
      "needs_background": "light"
     },
     "output_type": "display_data"
    }
   ],
   "source": [
    "en_random_forest_model = fit_model('random_forest_model')"
   ]
  },
  {
   "cell_type": "code",
   "execution_count": 34,
   "metadata": {
    "id": "PYq0QHzQQlhi"
   },
   "outputs": [],
   "source": [
    "\n",
    "\n",
    "pickle.dump(en_random_forest_model, open('en_random_forest_model.pkl','wb'))"
   ]
  },
  {
   "cell_type": "markdown",
   "metadata": {
    "id": "uWtZK36AQlhk"
   },
   "source": [
    "#### [3.3.3]  Logistic regression model:"
   ]
  },
  {
   "cell_type": "code",
   "execution_count": 35,
   "metadata": {
    "colab": {
     "base_uri": "https://localhost:8080/",
     "height": 636
    },
    "id": "5nMTOXJdQlhl",
    "outputId": "312ece18-4d58-4b0a-d03e-5f17780f36dc"
   },
   "outputs": [
    {
     "name": "stdout",
     "output_type": "stream",
     "text": [
      "Accuracy on test:  0.9899328859060402\n",
      "Confusion Matrix\n",
      "[[62  0  0  0  0]\n",
      " [ 0 63  0  0  0]\n",
      " [ 1  0 52  0  0]\n",
      " [ 0  0  1 65  0]\n",
      " [ 0  1  0  0 53]]\n",
      "Classification Report for  LogisticRegression()\n",
      "              precision    recall  f1-score   support\n",
      "\n",
      "           0       0.98      1.00      0.99        62\n",
      "           1       0.98      1.00      0.99        63\n",
      "           2       0.98      0.98      0.98        53\n",
      "           3       1.00      0.98      0.99        66\n",
      "           4       1.00      0.98      0.99        54\n",
      "\n",
      "    accuracy                           0.99       298\n",
      "   macro avg       0.99      0.99      0.99       298\n",
      "weighted avg       0.99      0.99      0.99       298\n",
      "\n"
     ]
    },
    {
     "data": {
      "image/png": "[encoded data removed]",
      "text/plain": [
       "<Figure size 432x288 with 1 Axes>"
      ]
     },
     "metadata": {
      "needs_background": "light"
     },
     "output_type": "display_data"
    }
   ],
   "source": [
    "en_logistic_regression_model = fit_model('logistic_regression_model')\n",
    "pickle.dump(en_logistic_regression_model, open('en_logistic_regression_model.pkl','wb'))"
   ]
  },
  {
   "cell_type": "markdown",
   "metadata": {
    "id": "sycSrOkFQlhr"
   },
   "source": [
    "# Step [4]: Test cases:"
   ]
  },
  {
   "cell_type": "code",
   "execution_count": 36,
   "metadata": {
    "id": "bA2HVAOoQlhr"
   },
   "outputs": [],
   "source": [
    "test_1 =\"The term machine learning was coined in 1959 by Arthur Samuel, an American IBMer and pioneer in the field of\\\n",
    "computer gaming and artificial intelligence.[8][9] A representative book of the machine learning research during the 1960s\\\n",
    "was the Nilsson's book on Learning Machines, dealing mostly with machine learning for pattern classification.[10] Interest\\\n",
    "related to pattern recognition continued into the 1970s, as described by Duda and Hart in 1973.[11] In 1981 a report was given\\\n",
    "on using teaching strategies so that a neural network learns to recognize 40 characters (26 letters, 10 digits, and 4 special\\\n",
    "symbols) from a computer terminal.[12] Tomamom M. Mitchell provided a widely quoted, more formal definition of the algorithms\\\n",
    "studied in the machine learning field: A computer program is said to learn from experience E with respect to some class of\\\n",
    "tasks T and performance measure P if its performance at tasks in T, as measured by P, improves with experience E.\\\n",
    "[13] This definition  of the tasks in which machine learning is concerned offers a fundamentally operational definition rather\\\n",
    "than defining the field in cognitive terms. This follows Alan Turing's proposal in his paper Computing Machinery\\\n",
    "and Intelligence, in which the question Can machines think? is replaced with the question Can machines do what we\\\n",
    "(as thinking entities) can do?.[14] Modern day machine learning has two objectives, one is to classify data based on models\\\n",
    "which have been developed, the other purpose is to make predictions for future outcomes based on these model.\\\n",
    "A hypothetical algorithm specific to classifying data may use computer vision of moles coupled with supervised learning\\\n",
    "in order to train it to classify the cancerous moles. Where as, a machine learning algoritihim for stock trading may inform\\\n",
    "the trader of future potential predictions.[15] Artificial intelligence Machine Learning as subfield of AI[16] Part of Machine\\\n",
    "Learning as subfield of AI or part of AI as subfield of Machine Learning[17] As a scientific endeavor, machine learning grew\\\n",
    "out of the quest for artificial intelligence. In the early days of AI as an academic discipline, some researchers were\\\n",
    "interested in having machines learn from data. They attempted to approach the problem with various symbolic methods,\\\n",
    "as well as what was then termed neural networks; these were mostly perceptrons and other models that were later found\\\n",
    "to be reinventions of the generalized linear models of statistics.[18] Probabilistic reasoning was also employed,\\\n",
    "especially in automated medical diagnosis.[19]:488 However, an increasing emphasis on the logical, knowledge-based approach\\\n",
    "caused a rift between AI and machine learning. Probabilistic systems were plagued by theoretical and practical problems\\\n",
    "of data acquisition and representation.[19]:488 By 1980, expert systems had come to dominate AI, and statistics was out of\\\n",
    "favor.[20] Work on symbolic/knowledge-based learning did continue within AI, leading to inductive logic programming,\\\n",
    "but the more statistical line of research was now outside the field of AI proper, in pattern recognition and information\\\n",
    "retrieval.[19]:708–710; 755 Neural networks research had been abandoned by AI and computer science around the same time.\\\n",
    "This line, too, was continued outside the AI/CS field, as connectionism, by researchers from other disciplines including\\\n",
    "Hopfield, Rumelhart and Hinton. Their main success came in the mid-1980s with the reinvention of backpropagation.\\\n",
    "[19]:25 Machine learning (ML), reorganized as a separate field, started to flourish in the 1990s. The field changed its goal\\\n",
    "from achieving artificial intelligence to tackling solvable problems of a practical nature. It shifted focus away from\\\n",
    "the symbolic approaches it had inherited from AI, and toward methods and models borrowed from statistics and probability\\\n",
    "theory.[20] As of 2020, many sources continue to assert that machine learning remains a subfield of AI.[21][22][16] The main\\\n",
    "disagreement is whether all of ML is part of AI, as this would mean that anyone using ML could claim they are using AI.\\\n",
    "Others have the view that not all of ML is part of AI[23][24][25] where only an intelligent subset of ML is part of AI.\\\n",
    "[26] The question to what is the difference between ML and AI is answered by Judea Pearl in The Book of Why.\\\n",
    "[27] Accordingly ML learns and predicts based on passive observations, whereas AI implies an agent interacting with the\\\n",
    "environment to learn and take actions that maximize its chance of successfully achieving its goals.[30]\""
   ]
  },
  {
   "cell_type": "code",
   "execution_count": 37,
   "metadata": {
    "colab": {
     "base_uri": "https://localhost:8080/"
    },
    "id": "Xi5vND-oQlht",
    "outputId": "67798fcf-3ccc-4b14-c0ea-622cbf4eae27",
    "scrolled": true
   },
   "outputs": [
    {
     "name": "stdout",
     "output_type": "stream",
     "text": [
      "-------------------------------------------------------------------------------------------------------------------------------\n",
      "Text summary\n",
      "-------------------------------------------------------------------------------------------------------------------------------\n",
      "[8][9] A representative book of the machine learning research during the 1960swas the Nilsson's book on Learning Machines, dealing mostly with machine learning for pattern classification. The term machine learning was coined in 1959 by Arthur Samuel, an American IBMer and pioneer in the field ofcomputer gaming and artificial intelligence. [19]:25 Machine learning (ML), reorganized as a separate field, started to flourish in the 1990s. [20] As of 2020, many sources continue to assert that machine learning remains a subfield of AI. Where as, a machine learning algoritihim for stock trading may informthe trader of future potential predictions. [19]:488 However, an increasing emphasis on the logical, knowledge-based approachcaused a rift between AI and machine learning. The field changed its goalfrom achieving artificial intelligence to tackling solvable problems of a practical nature. It shifted focus away fromthe symbolic approaches it had inherited from AI, and toward methods and models borrowed from statistics and probabilitytheory. In the early days of AI as an academic discipline, some researchers wereinterested in having machines learn from data. This follows Alan Turing's proposal in his paper Computing Machineryand Intelligence, in which the question Can machines think?\n",
      "-------------------------------------------------------------------------------------------------------------------------------\n",
      "Text category: Technology\n",
      "-------------------------------------------------------------------------------------------------------------------------------\n"
     ]
    }
   ],
   "source": [
    "summerize_category(test_1, 10, en_random_forest_model)"
   ]
  },
  {
   "cell_type": "code",
   "execution_count": 38,
   "metadata": {
    "id": "TD-BknxUQlhu"
   },
   "outputs": [],
   "source": [
    "test_2 = \"Founded on 6 March 1902 as Madrid Football Club, the club has traditionally worn a white home kit since inception. \\\n",
    "The word real is Spanish for \\\"royal\\\" and was bestowed to the club by King Alfonso XIII in 1920 together with the royal crown\\\n",
    "in the emblem. The team has played its home matches in the 81,044-capacity Santiago Bernabéu Stadium in downtown Madrid since\\\n",
    "1947. Unlike most European sporting entities, Real Madrids members (socios) have owned and operated the club throughout its\\\n",
    "history. The club was estimated to be worth €3.8 billion ($4.2 billion) in 2019, and it was the second highest-earning football\\\n",
    "club in the world, with an annual revenue of €757.3 million in 2019.[7][8] The club is one of the most widely supported teams\\\n",
    "in the world.[9] Real Madrid is one of three founding members of La Liga that have never been relegated from the top division\\\n",
    "since its inception in 1929, along with Athletic Bilbao and Barcelona. The club holds many long-standing rivalries,\\\n",
    "most notably El Clásico with Barcelona and El Derbi with Atlético Madrid. Real Madrid established itself as a major force in\\\n",
    "both Spanish and European football during the 1950s, winning five consecutive European Cups and reaching the final seven times.\\\n",
    "This success was replicated in the league, which the club won five times in the space of seven years. This team, which\\\n",
    "consisted of players Alfredo Di Stéfano, Ferenc Puskás, Francisco Gento, and Raymond Kopa, is considered by some in the sport\\\n",
    "to be the greatest team of all time.[10][11][12] In domestic football, the club has won 66 trophies; a record 34 La Liga\\\n",
    "titles, 19 Copa del Rey, 11 Supercopa de España, a Copa Eva Duarte, and a Copa de la Liga.[13] In European and worldwide\\\n",
    "competitions, Real Madrid have won a record 26 trophies; a record 13 European Cup/UEFA Champions League titles, two UEFA Cups\\\n",
    "and four UEFA Super Cups. In international football, they have achieved a record seven club world championships.[note 1] Real\\\n",
    "Madrid was recognised as the FIFA Club of the 20th Century on 11 December 2000 with 42.35% of the vote,[15] and received\\\n",
    "the FIFA Centennial Order of Merit on 20 May 2004.[16] The club was also awarded Best European Club of the 20th Century by the\\\n",
    "IFFHS on 11 May 2010. In June 2017, the team succeeded in becoming the first club to win consecutive Champions League titles, \\\n",
    "then made it three in a row and four in five seasons in May 2018, extending their lead atop the UEFA club rankings. As of 2020,\\\n",
    "Real Madrid are ranked third behind Bayern Munich and Barcelona.[17][18]\""
   ]
  },
  {
   "cell_type": "code",
   "execution_count": 40,
   "metadata": {
    "id": "f3U1Lf4oQlh3"
   },
   "outputs": [
    {
     "name": "stdout",
     "output_type": "stream",
     "text": [
      "-------------------------------------------------------------------------------------------------------------------------------\n",
      "Text summary\n",
      "-------------------------------------------------------------------------------------------------------------------------------\n",
      "Founded on 6 March 1902 as Madrid Football Club, the club has traditionally worn a white home kit since inception. [16] The club was also awarded Best European Club of the 20th Century by theIFFHS on 11 May 2010. In international football, they have achieved a record seven club world championships. The word real is Spanish for \"royal\" and was bestowed to the club by King Alfonso XIII in 1920 together with the royal crownin the emblem. [13] In European and worldwidecompetitions, Real Madrid have won a record 26 trophies; a record 13 European Cup/UEFA Champions League titles, two UEFA Cupsand four UEFA Super Cups. [7][8] The club is one of the most widely supported teamsin the world. Unlike most European sporting entities, Real Madrids members (socios) have owned and operated the club throughout itshistory. The club holds many long-standing rivalries,most notably El Clásico with Barcelona and El Derbi with Atlético Madrid. This team, whichconsisted of players Alfredo Di Stéfano, Ferenc Puskás, Francisco Gento, and Raymond Kopa, is considered by some in the sportto be the greatest team of all time. The team has played its home matches in the 81,044-capacity Santiago Bernabéu Stadium in downtown Madrid since1947.\n",
      "-------------------------------------------------------------------------------------------------------------------------------\n",
      "Text category: Sport\n",
      "-------------------------------------------------------------------------------------------------------------------------------\n"
     ]
    }
   ],
   "source": [
    "summerize_category(test_2, 10, en_random_forest_model)"
   ]
  },
  {
   "cell_type": "code",
   "execution_count": null,
   "metadata": {},
   "outputs": [],
   "source": []
  }
 ],
 "metadata": {
  "colab": {
   "collapsed_sections": [
    "vsmIsHC8Qlhh",
    "uWtZK36AQlhk",
    "j8Qoo7qtQlhm",
    "eQVqg0PmQlhn",
    "tOjcRMIZQlhn"
   ],
   "name": "NLTK Summarizer.ipynb",
   "provenance": []
  },
  "kernelspec": {
   "display_name": "Python 3 (ipykernel)",
   "language": "python",
   "name": "python3"
  },
  "language_info": {
   "codemirror_mode": {
    "name": "ipython",
    "version": 3
   },
   "file_extension": ".py",
   "mimetype": "text/x-python",
   "name": "python",
   "nbconvert_exporter": "python",
   "pygments_lexer": "ipython3",
   "version": "3.9.7"
  }
 },
 "nbformat": 4,
 "nbformat_minor": 1
}
